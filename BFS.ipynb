{
 "cells": [
  {
   "cell_type": "code",
   "execution_count": 1,
   "id": "c1a296bc",
   "metadata": {},
   "outputs": [
    {
     "data": {
      "text/plain": [
       "(['B', 'E', 'D', 'F'],\n",
       " {'A': 'White',\n",
       "  'B': 'Black',\n",
       "  'C': 'White',\n",
       "  'D': 'Black',\n",
       "  'E': 'Black',\n",
       "  'F': 'Black'},\n",
       " {'A': None, 'B': None, 'C': None, 'D': 'B', 'E': 'B', 'F': 'E'})"
      ]
     },
     "execution_count": 1,
     "metadata": {},
     "output_type": "execute_result"
    }
   ],
   "source": [
    "from collections import deque\n",
    "graph = {'A':['B','C'],'B':['E','D'],'C':['F'],'D':[],'E':['F'],'F':[]}\n",
    "\n",
    "\n",
    "def bfs(graph,source):\n",
    "  if source in graph:\n",
    "    queue = deque([source])\n",
    "    visited = []\n",
    "    color = {u:\"White\" for u in graph}\n",
    "    # color = {}\n",
    "    parent = {u:None for u in graph}\n",
    "    # parent = {}\n",
    "    while queue:\n",
    "      x = queue.popleft()\n",
    "      if x not in visited:\n",
    "        color[x] = 'Black'\n",
    "        visited.append(x)\n",
    "        for i in graph[x]:\n",
    "          if i not in visited:\n",
    "            parent[i] = x\n",
    "            queue.append(i)\n",
    "    return visited,color,parent\n",
    "  else:\n",
    "    return \"Source is not in graph\"\n",
    "bfs(graph,'B')"
   ]
  }
 ],
 "metadata": {
  "kernelspec": {
   "display_name": "Python 3",
   "language": "python",
   "name": "python3"
  },
  "language_info": {
   "codemirror_mode": {
    "name": "ipython",
    "version": 3
   },
   "file_extension": ".py",
   "mimetype": "text/x-python",
   "name": "python",
   "nbconvert_exporter": "python",
   "pygments_lexer": "ipython3",
   "version": "3.13.2"
  }
 },
 "nbformat": 4,
 "nbformat_minor": 5
}
