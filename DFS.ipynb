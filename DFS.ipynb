{
 "cells": [
  {
   "cell_type": "code",
   "execution_count": 3,
   "id": "729b2080",
   "metadata": {},
   "outputs": [
    {
     "name": "stdout",
     "output_type": "stream",
     "text": [
      "Vertex  d   f   pi\n",
      "u     1   8   None\n",
      "v     2   7   u\n",
      "w     9   12   None\n",
      "x     4   5   y\n",
      "y     3   6   v\n",
      "z     10   11   w\n"
     ]
    }
   ],
   "source": [
    "\n",
    "graph = {\n",
    "    \"u\": [\"v\",\"x\"],\n",
    "    \"v\": [\"y\"],\n",
    "    \"w\": [\"y\",\"z\"],\n",
    "    \"x\": [\"v\"],\n",
    "    \"y\": [\"x\"],\n",
    "    \"z\": [\"z\"]   \n",
    "}\n",
    "\n",
    "\n",
    "color = {}\n",
    "pi = {}\n",
    "d = {}\n",
    "f = {}\n",
    "time = 0\n",
    "\n",
    "def DFS(G):\n",
    "    global time\n",
    "    for i in G.keys():\n",
    "        color[i] = \"white\"\n",
    "        pi[i] = None\n",
    "    time = 0\n",
    "    for i in G.keys():\n",
    "        if color[i] == \"white\":\n",
    "            DFS_Visit(G, i)\n",
    "\n",
    "def DFS_Visit(G, i):\n",
    "    global time\n",
    "    color[i] = \"gray\"\n",
    "    time += 1\n",
    "    d[i] = time\n",
    "    for j in G[i]:\n",
    "        if color[j] == \"white\":\n",
    "            pi[j] = i\n",
    "            DFS_Visit(G, j)\n",
    "    color[i] = \"black\"\n",
    "    time += 1\n",
    "    f[i] = time\n",
    "\n",
    "DFS(graph)\n",
    "\n",
    "print(\"Vertex  d   f   pi\")\n",
    "for i in graph.keys():\n",
    "    print(i, \"   \", d[i], \" \", f[i], \" \", pi[i])\n",
    "\n",
    "\n",
    "\n",
    "# (d)==>  Discovery time\n",
    "# (f)==> Finishing time\n",
    "# (pi)==> Parent in DFS tree\n"
   ]
  },
  {
   "cell_type": "code",
   "execution_count": null,
   "id": "153bb21f",
   "metadata": {},
   "outputs": [],
   "source": []
  },
  {
   "cell_type": "code",
   "execution_count": null,
   "id": "de4037b5",
   "metadata": {},
   "outputs": [],
   "source": []
  }
 ],
 "metadata": {
  "kernelspec": {
   "display_name": "Python 3",
   "language": "python",
   "name": "python3"
  },
  "language_info": {
   "codemirror_mode": {
    "name": "ipython",
    "version": 3
   },
   "file_extension": ".py",
   "mimetype": "text/x-python",
   "name": "python",
   "nbconvert_exporter": "python",
   "pygments_lexer": "ipython3",
   "version": "3.13.2"
  }
 },
 "nbformat": 4,
 "nbformat_minor": 5
}
